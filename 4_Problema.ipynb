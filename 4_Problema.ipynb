{
 "cells": [
  {
   "cell_type": "markdown",
   "metadata": {},
   "source": [
    "## Problema 1\n",
    "\n",
    "Tenemos una población de 1000 individuos con 3 locus de estudio, A,B y C. Sabemos que cada locus tiene dos alelos y que la frecuencia inicial del alelo A es 0.6 mientras que el resto es 0.5. \n",
    "\n",
    "Además, también se sabe que los triple dominantes tienen una tasa de supervivencia muy baja, debido a un efecto epistático **letal** con penetrancia de 0.9.\n",
    "\n",
    "Por último, esta población está sometida a agentes mutagénicos. La consecuencia es una tasa de mutación de 0.01 para los tres locus.\n",
    "\n",
    "Se pide:\n",
    "\n",
    "1. Crea a las variables que definen a la población (p.ej. `tam=1000`)\n",
    "2. Crea la poblacion a partir de esas variables\n",
    "3. Genera la generación 0 y hazla evolucionar 50 generaciones\n",
    "4. Obtén el cambio en las frecuencias alélicas\n",
    "5. Documenta/explica cada bloque de código de forma breve\n"
   ]
  },
  {
   "cell_type": "markdown",
   "metadata": {},
   "source": [
    "## Problema 2\n",
    "Debido a la aparición de una barrera física, 20 de estos individuos queda aislado del resto. \n",
    "Como consecuencia, la población ya no se ve expuesta a los agentes mutagénicos y su tasa de mutación se reduce a 0.0001. Sin embargo, el cambio en el ambiente provoca que el fenotipo triple dominante ya no sea letal en la población.\n",
    "\n",
    "Realiza los pasos necesarios para llevar a cabo la evolución durante 100 generaciones de estos 20 individuos en el nuevo ambiente. ¿Encaja el cambio en las frecuencias alélicas con el resultado esperado?"
   ]
  }
 ],
 "metadata": {
  "interpreter": {
   "hash": "fa67766ae418968f0c59ac0eb4df618cb98e2442e22a4762b28c70784bead217"
  },
  "kernelspec": {
   "display_name": "Python 3.9.7 64-bit",
   "language": "python",
   "name": "python3"
  },
  "language_info": {
   "codemirror_mode": {
    "name": "ipython",
    "version": 3
   },
   "file_extension": ".py",
   "mimetype": "text/x-python",
   "name": "python",
   "nbconvert_exporter": "python",
   "pygments_lexer": "ipython3",
   "version": "3.9.7"
  },
  "orig_nbformat": 4
 },
 "nbformat": 4,
 "nbformat_minor": 2
}
