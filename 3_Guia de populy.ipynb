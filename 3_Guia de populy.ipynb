{
 "cells": [
  {
   "cell_type": "markdown",
   "metadata": {},
   "source": [
    "# Populy\n",
    "### Guía de uso en *jupyter notebook*"
   ]
  },
  {
   "cell_type": "markdown",
   "metadata": {},
   "source": [
    "## Pasos previos: instalación"
   ]
  },
  {
   "cell_type": "markdown",
   "metadata": {},
   "source": [
    "Populy es un paquete desarrollado en Python para la simulación de procesos evolutivos de tipo *forward evolution*.\n",
    "\n",
    "La instalación es el primer paso antes de utilizar cualquier paquete o librería que no esté incluida en la instalación base de python. El siguiente código permite instalar el paquete utilizando la herramienta pip.\n",
    "\n",
    "El símbolo de exclamación indica que no es un bloque de código normal, si no un comando de `shell`.\n",
    "\n",
    "La instalación solo es necesaria una vez. Copia el código en una celda, pégalo y ejecútalo.\n",
    "\n",
    "```\n",
    "!pip install Populy\n",
    "```\n",
    "Sin embargo, como no solo es necesario instalar este paquete se hará uso de un de el siguiente comando para instalar Populy y sus dependencias:"
   ]
  },
  {
   "cell_type": "code",
   "execution_count": 2,
   "metadata": {},
   "outputs": [
    {
     "name": "stderr",
     "output_type": "stream",
     "text": [
      "WARNING: You are using pip version 22.0.4; however, version 22.1.2 is available.\n",
      "You should consider upgrading via the 'c:\\users\\mario\\anaconda3\\python.exe -m pip install --upgrade pip' command.\n"
     ]
    },
    {
     "name": "stdout",
     "output_type": "stream",
     "text": [
      "Collecting matplotlib==3.2.1\n",
      "  Downloading matplotlib-3.2.1-cp38-cp38-win_amd64.whl (9.2 MB)\n",
      "     ---------------------------------------- 9.2/9.2 MB 4.7 MB/s eta 0:00:00\n",
      "Collecting numpy==1.18.5\n",
      "  Downloading numpy-1.18.5-cp38-cp38-win_amd64.whl (12.8 MB)\n",
      "     ---------------------------------------- 12.8/12.8 MB 4.9 MB/s eta 0:00:00\n",
      "Collecting pandas==1.0.4\n",
      "  Downloading pandas-1.0.4-cp38-cp38-win_amd64.whl (8.9 MB)\n",
      "     ---------------------------------------- 8.9/8.9 MB 5.6 MB/s eta 0:00:00\n",
      "Requirement already satisfied: python-dateutil>=2.1 in c:\\users\\mario\\anaconda3\\lib\\site-packages (from matplotlib==3.2.1->-r requirements.txt (line 6)) (2.8.1)\n",
      "Requirement already satisfied: kiwisolver>=1.0.1 in c:\\users\\mario\\anaconda3\\lib\\site-packages (from matplotlib==3.2.1->-r requirements.txt (line 6)) (1.3.1)\n",
      "Requirement already satisfied: cycler>=0.10 in c:\\users\\mario\\anaconda3\\lib\\site-packages (from matplotlib==3.2.1->-r requirements.txt (line 6)) (0.10.0)\n",
      "Requirement already satisfied: pyparsing!=2.0.4,!=2.1.2,!=2.1.6,>=2.0.1 in c:\\users\\mario\\anaconda3\\lib\\site-packages (from matplotlib==3.2.1->-r requirements.txt (line 6)) (2.4.7)\n",
      "Requirement already satisfied: pytz>=2017.2 in c:\\users\\mario\\anaconda3\\lib\\site-packages (from pandas==1.0.4->-r requirements.txt (line 8)) (2021.1)\n",
      "Requirement already satisfied: six in c:\\users\\mario\\anaconda3\\lib\\site-packages (from cycler>=0.10->matplotlib==3.2.1->-r requirements.txt (line 6)) (1.15.0)\n",
      "Installing collected packages: numpy, pandas, matplotlib\n",
      "  Attempting uninstall: numpy\n",
      "    Found existing installation: numpy 1.20.1\n",
      "    Uninstalling numpy-1.20.1:\n",
      "      Successfully uninstalled numpy-1.20.1\n",
      "  Attempting uninstall: pandas\n",
      "    Found existing installation: pandas 1.2.4\n",
      "    Uninstalling pandas-1.2.4:\n",
      "      Successfully uninstalled pandas-1.2.4\n",
      "  Attempting uninstall: matplotlib\n",
      "    Found existing installation: matplotlib 3.3.4\n",
      "    Uninstalling matplotlib-3.3.4:\n",
      "      Successfully uninstalled matplotlib-3.3.4\n",
      "Successfully installed matplotlib-3.2.1 numpy-1.18.5 pandas-1.0.4\n"
     ]
    }
   ],
   "source": [
    "!pip install -r requirements.txt"
   ]
  },
  {
   "cell_type": "code",
   "execution_count": 3,
   "metadata": {},
   "outputs": [
    {
     "name": "stdout",
     "output_type": "stream",
     "text": [
      "Collecting Populy"
     ]
    },
    {
     "name": "stderr",
     "output_type": "stream",
     "text": [
      "WARNING: You are using pip version 22.0.4; however, version 22.1.2 is available.\n",
      "You should consider upgrading via the 'c:\\users\\mario\\anaconda3\\python.exe -m pip install --upgrade pip' command.\n"
     ]
    },
    {
     "name": "stdout",
     "output_type": "stream",
     "text": [
      "\n",
      "  Downloading Populy-0.2.1-py3-none-any.whl (16 kB)\n",
      "Installing collected packages: Populy\n",
      "Successfully installed Populy-0.2.1\n"
     ]
    }
   ],
   "source": [
    "# ejecutar solo una única vez\n",
    "!pip install Populy"
   ]
  },
  {
   "cell_type": "markdown",
   "metadata": {},
   "source": [
    "## Importar el paquete"
   ]
  },
  {
   "cell_type": "markdown",
   "metadata": {},
   "source": [
    "La instalación hace disponible el paquete, la importación \"carga\" el paquete en la memoria para que sea accesible.\n",
    "La forma de importar, aunque parece complicada viene a decir que \"desde este archivo importa este código\".\n",
    "\n",
    "De momento importaremos tanto `Population` como `Plots`, el primero nos permite crear la población y el segundo representarla."
   ]
  },
  {
   "cell_type": "code",
   "execution_count": null,
   "metadata": {},
   "outputs": [],
   "source": [
    "from populy.population import Population\n",
    "from populy.plots import Plots"
   ]
  },
  {
   "cell_type": "markdown",
   "metadata": {},
   "source": [
    "En caso de que salga un error, copiar el código de abajo y ejecutar en una celda:\n",
    "```python\n",
    "\n",
    "try:\n",
    "    from populy.population import Population\n",
    "except ModuleNotFoundError as e:\n",
    "    import sys\n",
    "    sys.path.append('populy')\n",
    "finally:\n",
    "    from populy.population import Population\n",
    "```"
   ]
  },
  {
   "cell_type": "markdown",
   "metadata": {},
   "source": [
    "## Crear una población"
   ]
  },
  {
   "cell_type": "markdown",
   "metadata": {},
   "source": [
    "La forma correcta de referirse a la creación de objetos es la instanciación. En el siguiente bloque se está instanciando una nueva población.\n",
    "\n",
    "Tenemos una nueva poblacion vacía a la cual le hemos llamado 'poblacion'. Esta poblacion tiene una serie de características, llamadas <b>atributos</b>, que la definen. En este caso sus valores son unos predeterminados pero se pueden cambiar pasandole el nuevo valor del atributo dentro del paréntesis tal y como se ha hecho con el tamaño (size)"
   ]
  },
  {
   "cell_type": "code",
   "execution_count": null,
   "metadata": {},
   "outputs": [],
   "source": [
    "# se crea una nueva poblacion donde se especifican caracteristicas generales de esta\n",
    "poblacion = Population(size=1000,\n",
    "                       freq={'A':(0.4,0.6),'B':(0.6,0.4)},\t\n",
    "                       fit={'AABB':0.2},\n",
    "                       mu=(0.01,0.01)\n",
    "                       )"
   ]
  },
  {
   "cell_type": "markdown",
   "metadata": {},
   "source": [
    "### Ejercicio 1: atributos\n",
    "\n",
    "**Genes**\n",
    "En nuestro ejempolo `poblacion`, ¿sabrías decir cuantos genes hay? ¿sabrías interpretar los valores del diccionario freq?\n",
    "\n",
    "**Fitness**\n",
    "¿Qué puede indicar el atributo `fit`?\n",
    "\n",
    "**mu**\n",
    "¿Qué puede significar el atributo `mu`?"
   ]
  },
  {
   "cell_type": "markdown",
   "metadata": {},
   "source": [
    "Si se quiere saber más sobre los posibles parámetros que incluir se puede consultar la documentación mediante la función help"
   ]
  },
  {
   "cell_type": "code",
   "execution_count": null,
   "metadata": {},
   "outputs": [],
   "source": [
    "help(Population.__init__)"
   ]
  },
  {
   "cell_type": "markdown",
   "metadata": {},
   "source": [
    "Este método nos da la información de la población que se le pase."
   ]
  },
  {
   "cell_type": "code",
   "execution_count": null,
   "metadata": {},
   "outputs": [],
   "source": [
    "Population.info(poblacion)"
   ]
  },
  {
   "cell_type": "markdown",
   "metadata": {},
   "source": [
    "## Generar individuos en la población\n",
    "\n",
    "Una vez creada la población se puede operar sobre ella. Para hacerlo se requiere de una estructura llamada método. Un método es una función asociada a un objeto, por lo que se sigue la siguiente notación:\n",
    "\n",
    "`objeto.metodo()`\n",
    "\n",
    "Siendo poblacion el nombre de nuestro objeto en cuestión.\n",
    "Como la población que hemos creado previamente estaba vacía, es necesario introducir unos individuos en ella mediante la siguiente linea de código:"
   ]
  },
  {
   "cell_type": "code",
   "execution_count": null,
   "metadata": {},
   "outputs": [],
   "source": [
    "poblacion.initIndividuals()"
   ]
  },
  {
   "cell_type": "markdown",
   "metadata": {},
   "source": [
    "### Ejercicio 2: mostrar individuos \n",
    "\n",
    "Utilizando el método `printIndividuals` haz que se muestren por pantalla algunos individuos de la población."
   ]
  },
  {
   "cell_type": "code",
   "execution_count": null,
   "metadata": {},
   "outputs": [],
   "source": [
    "# escribe aqui el codigo"
   ]
  },
  {
   "cell_type": "markdown",
   "metadata": {},
   "source": [
    "## Evolución\n",
    "\n",
    "El estado actual de la población es su estado inicial, es decir, se encuentra en la primera generación (generación 0).\n",
    "\n",
    "Al igual que se ha hecho con los otros métodos `initIndividuals` y `printIndividuals` es necesario llamar ahora al método que permite hacer que la población evolucione, es decir, que vayan sucediendo nuevas generaciones."
   ]
  },
  {
   "cell_type": "code",
   "execution_count": null,
   "metadata": {},
   "outputs": [],
   "source": [
    "poblacion.evolvePop(gens=100)"
   ]
  },
  {
   "cell_type": "markdown",
   "metadata": {},
   "source": [
    "No es necesario conocer el proceso de evolución en detalle, sin embargo debe saberse que el método de reproducción se lleva a cabo teniendo en cuenta el sexo del individuo y haciendo un **muestreo aleatorio con reemplazamiento**. Es decir, se toman 2 individuos, se comprueba que son de sexos distintos, se genera un descendiente y devuelve a la población original (no se eliminan).\n",
    "\n",
    "Si da curiosidad, el algoritmo que el método evolvePop sigue es el siguiente:\n",
    "\n",
    "1. Se escogen 2 individuos de forma aleatoria de nuestra población\n",
    "2. Se comprueban una serie de parámetros (si ambos son de sexos diferentes, por ejemplo)\n",
    "3. Si se cumplen estos parámetros se genera un nuevo individuo (recordemos que individuo es una forma de referirse a un objeto de la clase individuo)\n",
    "4. Dentro de cada individuo se genenera su genoma (sus cromosomas homólogos ya que se trabaja con un único cromosoma)\n",
    "5. Se realizan algunas operaciones más, como la posibilidad de una mutación o la recombinación\n",
    "6. Se aplica (o no) una función de selección que vendrá dada por su genoma, si sobrevive se añadirá a la siguiente generación (pasará el filtro)\n",
    "8. Repetir el proceso hasta que tengamos una nueva población del mismo tamaño\n",
    "9. Repetir el proceso hasta llegar al número de generaciones especificada\n",
    "\n",
    "**Nota**: el concepto de evolución en la simulación no es exactamente igual al siginficado biológico, se dice que una población evoluciona cuando pasan las generaciones."
   ]
  },
  {
   "cell_type": "markdown",
   "metadata": {},
   "source": [
    "### Ejercicio 3: evolución\n",
    "En el bloque anterior se ha evolucionado la población 100 generaciones. `poblacion` ha pasado de encontrarse en la generación 0 a la generación 100. Vuelve a utilizar `evolvePop`(ya sea volviendo a ejecutar o en un nuevo bloque de código) y comprueba en qué generación se encuentra la población mediante `Population.info(poblacion)`."
   ]
  },
  {
   "cell_type": "markdown",
   "metadata": {},
   "source": [
    "## Extraer información\n",
    "Una vez completada la evolucion podemos acceder a los atributos y/o metodos de nuestra poblacion para ver si ha cambiado, o que informacion se ha ido recopilando durante la evolucion.\n",
    "\n",
    "La forma más sencilla de obtener un resumen de los datos es utilizando el método `getDataFrame` que permite obtener una tabla (dataframe) donde se encuentra el resultado de la población."
   ]
  },
  {
   "cell_type": "code",
   "execution_count": null,
   "metadata": {},
   "outputs": [],
   "source": [
    "# obtenemos la evolución de las frecuencias alélicas para el alelo mayor\n",
    "poblacion.getDataFrame(\"alleles\")"
   ]
  },
  {
   "cell_type": "markdown",
   "metadata": {},
   "source": [
    "### Ejercicio 4: Cambio en las frecuencias\n",
    "Observando la última fila de nuestra tabla de datos ¿dirías que las frecuencias alelicas han cambiado?"
   ]
  },
  {
   "cell_type": "markdown",
   "metadata": {},
   "source": [
    "## Representar gráficamente la evolución\n",
    "\n",
    "Para saber si la población ha evolucionado en el sentido biológico se puede comprobar el cambio en las frecuencias alélicas. Para nuestro ejemplo se ha especificado una población diploide con 2 locus (o genes) A y B, cada uno con un alelo mayor (A/B) y menor (a/b). \n",
    "\n",
    "La mejor forma de visualizar este cambio es utilizando la representación gráfica. Para ello se utilizará el módulo `plots` de la siguiente forma:"
   ]
  },
  {
   "cell_type": "code",
   "execution_count": null,
   "metadata": {},
   "outputs": [],
   "source": [
    "Plots.alleles(poblacion)"
   ]
  },
  {
   "cell_type": "markdown",
   "metadata": {},
   "source": [
    "Si lo que se busca es obtener un resultado conjunto del cambio en los alelos, gametos, sexos y mutaciones se puede utilizar el siguiente método"
   ]
  },
  {
   "cell_type": "code",
   "execution_count": null,
   "metadata": {},
   "outputs": [],
   "source": [
    "# obtiene un resumen del cambio en la frecuencia alelica y gametica\n",
    "poblacion.plotAll()"
   ]
  },
  {
   "cell_type": "markdown",
   "metadata": {},
   "source": [
    "### Ejercicio 5: interpretación\n",
    "¿ Cuál dirías que son las fuerzas evolutivas que actúan en esta población?"
   ]
  },
  {
   "cell_type": "markdown",
   "metadata": {},
   "source": [
    "## Extra\n",
    "### Concatenacion de varias poblaciones\n",
    "Al metodo `initIndividuals` visto anteriormente podemos pasarle una población ya iniciada siempre y cuando tenga la misma estructura genética que la población que estamos construyendo (ej: no se puede pasar individuos con un solo locus 'A' cuando queremos que la poblacion tenga dos locus 'A','B')\n",
    "\n",
    "En el siguiente código se crea una nueva población `newPop` a la cual se le pasará los individuos de la población anterior llamada `poblacion`."
   ]
  },
  {
   "cell_type": "code",
   "execution_count": null,
   "metadata": {},
   "outputs": [],
   "source": [
    "# Creamos la nueva poblacion vacia\n",
    "newPop = Population(size=200,fit={'aabb':0})\n",
    "\n",
    "# Esta vez la llenamos de individuos ya existentes\n",
    "newPop.initIndividuals(pop = poblacion)\n"
   ]
  },
  {
   "cell_type": "markdown",
   "metadata": {},
   "source": [
    "### Ejercicio 6\n",
    "Al igual que se ha hecho anteriormente, llama a los métodos correspondientes para evolucionar y representar la nueva población. \n",
    "\n",
    "**Nota1**: haz que la población evolucione durante 120 generaciones. **Nota2**: utiliza el método `.plotAll()` para representar todos los cambios en la población.\n"
   ]
  },
  {
   "cell_type": "code",
   "execution_count": null,
   "metadata": {},
   "outputs": [],
   "source": []
  },
  {
   "cell_type": "markdown",
   "metadata": {},
   "source": [
    "### Ejercicio 7: extra\n",
    "\n",
    "¿Existe alguna analogía en las poblaciones reales que explique este fenómeno observado? "
   ]
  },
  {
   "cell_type": "markdown",
   "metadata": {},
   "source": [
    "## Simulación de múltiples poblaciones\n",
    "\n",
    "Para trabajar con múltiples poblaciones idénticas se debe importar el módulo superpop:"
   ]
  },
  {
   "cell_type": "code",
   "execution_count": null,
   "metadata": {},
   "outputs": [],
   "source": [
    "from populy.superpop import Superpop\n",
    "\n",
    "# permite eliminar el output por terminal\n",
    "from IPython.display import clear_output"
   ]
  },
  {
   "cell_type": "markdown",
   "metadata": {},
   "source": [
    "La forma de funcionar es similar a la vista anteriormente. En este caso para la creación de un conjunto de poblaciones se utilizará `Superpop`. A este objeto se le debe pasar el número de poblaciones y su tamaño."
   ]
  },
  {
   "cell_type": "code",
   "execution_count": null,
   "metadata": {},
   "outputs": [],
   "source": [
    "# creamos el objeto\n",
    "varias_poblaciones = Superpop(popsize=100,n=10)\n"
   ]
  },
  {
   "cell_type": "markdown",
   "metadata": {},
   "source": [
    "En este caso el objeto `varias_poblaciones` contiene un total de 10 poblaciones, cada una con 100 individuos.\n",
    "\n",
    "El siguiente paso es evolucionar"
   ]
  },
  {
   "cell_type": "code",
   "execution_count": null,
   "metadata": {},
   "outputs": [],
   "source": [
    "# evoluciona la poblacion\n",
    "varias_poblaciones.evolvePops(gens=100)\n",
    "# evita mostrar el output por terminal\n",
    "clear_output()"
   ]
  },
  {
   "cell_type": "markdown",
   "metadata": {},
   "source": [
    "Por último se representa el resultado"
   ]
  },
  {
   "cell_type": "code",
   "execution_count": null,
   "metadata": {},
   "outputs": [],
   "source": [
    "varias_poblaciones.plotPops()"
   ]
  },
  {
   "cell_type": "markdown",
   "metadata": {},
   "source": [
    "### Ejercicio 8: interpretación de resultados\n",
    "\n",
    "¿Qué fenómeno o mecansimo evolutivo dirías que está actuando en estas poblaciones?\n"
   ]
  },
  {
   "cell_type": "markdown",
   "metadata": {},
   "source": [
    "### Ejercicio avanzado:\n",
    "\n",
    "Averigua la frecuencia de fijación de A y B.\n",
    "\n",
    "Quizá es demasiado complejo? Hacerlo pero más simple"
   ]
  },
  {
   "cell_type": "code",
   "execution_count": null,
   "metadata": {},
   "outputs": [],
   "source": [
    "# Lista de poblaciones\n",
    "pops = varias_poblaciones.sPop\n",
    "# para ver el tamaño de la lista, es decir, el numero de subpoblaciones...\n",
    "size = len(pops)\n",
    "print(size)\n",
    "\n",
    "# para ver las frecuencias alelicas de la ultima generacion recorremos la lista\n",
    "fA = [0,0]\n",
    "fB = [0,0]\n",
    "print(f'Frecuencias alelicas en la ultima generacion {pops[0].gen}')\n",
    "for i,poblacion in enumerate(pops):\n",
    "    frecuencias_alelicas = poblacion.alleleFreq()\n",
    "    print('Poblacion 0: ',frecuencias_alelicas)\n",
    "    # contamos cuantos alelos se han fijado\n",
    "    if frecuencias_alelicas['A'] == 1:\n",
    "        fA[0] +=1\n",
    "    elif frecuencias_alelicas['A'] == 0:\n",
    "        fA[1] +=1 \n",
    "    if frecuencias_alelicas['B'] == 1:\n",
    "        fB[0] +=1\n",
    "    elif frecuencias_alelicas['B'] == 0:\n",
    "        fB[1] += 1\n",
    "# calculamos el porcentaje sobre el total\n",
    "fA = [(x/size)*100 for x in fA]\n",
    "fB = [(x/size)*100 for x in fB]\n",
    "\n",
    "print(f'Frecuencia de fijación de A: {fA[0]}% \\t de a {fA[1]}%',\n",
    "      f'Frecuencia de fijación de B: {fB[0]}% \\t de b {fB[1]}%',sep='\\n')"
   ]
  }
 ],
 "metadata": {
  "interpreter": {
   "hash": "3642232dcca72c31bde9fcd61d13cf28668a844012cde057eccdd5e45f4ffda3"
  },
  "kernelspec": {
   "display_name": "Python 3",
   "language": "python",
   "name": "python3"
  },
  "language_info": {
   "codemirror_mode": {
    "name": "ipython",
    "version": 3
   },
   "file_extension": ".py",
   "mimetype": "text/x-python",
   "name": "python",
   "nbconvert_exporter": "python",
   "pygments_lexer": "ipython3",
   "version": "3.8.8"
  }
 },
 "nbformat": 4,
 "nbformat_minor": 2
}
