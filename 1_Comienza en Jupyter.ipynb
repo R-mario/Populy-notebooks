{
 "cells": [
  {
   "cell_type": "markdown",
   "metadata": {},
   "source": [
    "# Comienza en Jupyter\n",
    "\n",
    "Bienvenido al entorno de programación interactiva llamado Jupyter. \n",
    "\n",
    "Si has abierto esto, significa que has abierto un archivo llamado *Jupyter Notebook*. Estos cuadernos están formados por texto y código interalado. Este es un bloque de texto.\n",
    "\n",
    "**Nota**: ves a *settings*>*Theme*>*Jupyterlab dark* para cambiar a modo oscuro."
   ]
  },
  {
   "cell_type": "markdown",
   "metadata": {},
   "source": [
    "Para ejecutar los bloques de código existen dos opciones:\n",
    "\n",
    "1. Buscar en la barra de herramientas el símbolo de play\n",
    "2. Pulsar `ctr+Enter` o `shift+Enter` en windows. En macOS pulsar `cmd+Enter`.\n",
    "\n",
    "A continuación se muestra una celda con código (bloque de código), prueba a ejecutarlo."
   ]
  },
  {
   "cell_type": "code",
   "execution_count": null,
   "metadata": {},
   "outputs": [],
   "source": [
    "print(\"Hola mundo!\")"
   ]
  },
  {
   "cell_type": "markdown",
   "metadata": {},
   "source": [
    "Si todo ha ido se espera habrá aparecido el texto \"Hola mundo!\" bajo el bloque de código. Eso es el output de la consola.\n",
    "\n",
    "En el caso de que no funcione es posible que tengas que reiniciar el [kernel](##kernel).\n",
    "\n",
    "***\n",
    "\n",
    "Una de las ventajas de estas libretas es que puedes intercalar la explicación con el código. Los bloques de código no son independientes por lo que si se crea una variable en uno de ellos es posible acceder a ésta en otro bloque cualquiera.\n",
    "\n",
    "Primero vamos a crear una nueva variable llamada `numero`."
   ]
  },
  {
   "cell_type": "code",
   "execution_count": null,
   "metadata": {},
   "outputs": [],
   "source": [
    "# esto es un comentario dentro del codigo\n",
    "numero = 1234"
   ]
  },
  {
   "cell_type": "markdown",
   "metadata": {},
   "source": [
    "## Crear bloques de código\n",
    "\n",
    "Además de los bloques de código y texto que estás viendo, es posible crear nuevos. La forma de acerlo es pulsando sobre el botón más ( + ) en la barra de navegación. Los bloques se crearán inmediatamente después del bloque seleccionado. \n",
    "\n",
    "Prueba a crear un bloque de código y muestra por pantalla el valor de `numero`"
   ]
  },
  {
   "cell_type": "code",
   "execution_count": null,
   "metadata": {},
   "outputs": [],
   "source": [
    "## Modificar tipo de celda\n",
    "\n",
    "Para cambiar de código a texto y viceversa debes seleccionar la celda que\n",
    "desees cambiar y pulsar el último botón de la derecha de la barra de navegación.\n",
    "En este ejemplo debe poner **Code**. Seleccionalo y cambia a **Markdown**, que son\n",
    "las celdas de texto.\n",
    "\n",
    "Cambia esta celda a una de tipo **Markdown**"
   ]
  },
  {
   "cell_type": "markdown",
   "metadata": {},
   "source": [
    "## Guardar y cargar una libreta\n",
    "Para guardar los cambios en la libreta pulsa al botón de guardar, esto permite que si recargas la página no se pierdan los cambios.\n",
    "\n",
    "Aun así estas libretas Jupyter se ejecutan en remoto, es decir, están alojada en un servidor externo. Esto es lo que permite que puedas acceder mediante un enlace; sin embargo, una vez cierres la página se cerrará la libreta y se perderán los cambios.\n",
    "\n",
    "Para evitar esto puedes descargar la libreta mediante el botón *Download*. Esto descargará un archivo con extensión `.ipynb`.\n",
    "\n",
    "Para volver a cargar la libreta debes pulsar en el botón de subida de archivos que se encuentra en la esquina superior izquierda, en la barra de navegación de la lista de archivos. "
   ]
  },
  {
   "cell_type": "markdown",
   "metadata": {},
   "source": [
    "<a id=’kernel’></a>\n",
    "## Kernel\n",
    "El kernel es el núcleo y es lo que permite a Jupyter interpetar que el código escrito pertenece a un lenguaje determinado, en este caso Python.\n",
    "\n",
    "Existen dos motivos principales por los que el kernel no funciona:\n",
    "\n",
    "1. Desconexión\n",
    "El kernel se desconecta cuando pasan varios minutos sin ejecutarse ningún bloque de código, es decir, cuando la libreta está inactiva.\n",
    "\n",
    "Para saber si el kernel está apagado podemos fijarnos en la esquina superior derecha, donde se encuentra un círculo. Si todo está correcto debería aparecer algo así como `Python 3` al lado de éste.\n",
    "\n",
    "En caso de que esté desconectado aparecerá `No kernel`, para **solucionarlo** debemos pulsar sobre ésto y seleccionar el kernel de Python.\n",
    "\n",
    "2. En ejecución\n",
    "Es posible que se haya ejecutado un bloque de código que requiere de mucho tiempo de procesamiento, en estos casos el kernel estará ocupado con ese bloque y no permitirá la ejecución del resto. La\n",
    "\n",
    "Para saber si el kernel está en uso podemos fijarnos también en la esquina superior derecha, si está ocupado donde antes el círculo era blanco ahora será negro.\n",
    "\n",
    "Para encontrar el bloque de código en ejecución podemos fijarnos en los paréntesis a la izquierda del bloque. Si hay un asterisco en ellos \\[*\\] en lugar de un número significa que está procesando la información.\n",
    "\n",
    "Para **solucionarlo** debemos pulsar al botón de *stop* que se encuentra al lado del de *start* en la barra de navegación. \n",
    "\n",
    "En caso de que no funcione ninguna de estas dos opciones prueba a reiniciar el kernel dandole al botón al lado del *stop*. \n",
    "\n",
    "Recuerda que esta opcion elimina todas las variables en memoria, por lo que deberás volver a ejecutar los bloques anteriores."
   ]
  },
  {
   "cell_type": "markdown",
   "metadata": {},
   "source": [
    "El siguiente código es un bucle, prueba a ejecutarlo a ver qué sucede."
   ]
  },
  {
   "cell_type": "code",
   "execution_count": null,
   "metadata": {},
   "outputs": [],
   "source": [
    "while True:\n",
    "    i = 0"
   ]
  },
  {
   "cell_type": "markdown",
   "metadata": {},
   "source": [
    "Parece que el bloque no para de ejecutarse, fuerza la interrupción con lo visto hasta ahora."
   ]
  },
  {
   "cell_type": "markdown",
   "metadata": {},
   "source": [
    "Muy bien, ya conoces el funcionamiento de las *Jupyter notebooks*, ahora prueba a abrir el siguiente archivo [Fundamentos de Python](./2_Fundamentos%20de%20Python.ipynb)."
   ]
  }
 ],
 "metadata": {
  "language_info": {
   "name": "python"
  },
  "orig_nbformat": 4
 },
 "nbformat": 4,
 "nbformat_minor": 2
}
