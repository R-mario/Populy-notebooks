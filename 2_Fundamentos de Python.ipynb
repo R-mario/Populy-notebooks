{
 "cells": [
  {
   "cell_type": "markdown",
   "metadata": {},
   "source": [
    "# Aprendiendo Python\n",
    "## Fundamentos esenciales de programación a través de python\n",
    "El objetivo de este notebook es hacer una breve introducción a las estructuras esenciales en Python, orientado al uso de Populy. "
   ]
  },
  {
   "cell_type": "markdown",
   "metadata": {},
   "source": [
    "Python es un lenguaje de programación sencillo de utilizar y aprender. \n",
    "Este cuaderno tiene como objetivo hacer una rápdia introducción a Python, para aprender con más detalle los fundamentos recomiendo especialmente [W3Schools](https://www.w3schools.com/python/python_intro.asp) y siempre acudir a la [documentación](https://docs.python.org/3/tutorial/index.html) cuando surja alguna duda."
   ]
  },
  {
   "cell_type": "markdown",
   "metadata": {},
   "source": [
    "## Tipos de datos"
   ]
  },
  {
   "cell_type": "code",
   "execution_count": null,
   "metadata": {},
   "outputs": [],
   "source": [
    "entero = 2 # esto es un comentario\n",
    "decimal = 3.14 # los comentarios no se ejecutan\n",
    "frase = \"esto es una cadena de caracteres\" # sirven para dar contexto\n",
    "verdad = True"
   ]
  },
  {
   "cell_type": "markdown",
   "metadata": {},
   "source": [
    "Eso de arriba son variables, las variables guardan información sobre algo. ¿Sencillo, no? Para definir cualquier variable siempre se sigue esta estructura de \"nombre_de_la_variable = valor''.\n",
    "\n",
    "El valor puede ser multitud de cosas, en este caso son un numero entero (`int`, de *integer*), un numero decimal (`float`, de *floating point*), un texto (`string`) y un valor dicotomico Verdadero/Falso (`bool`, de *boolean*). A esto se le conoce como tipos de datos o estructura de datos. \n",
    "\n",
    "En otros lenguajes de programación es necesario definir qué tipo de dato va a almacenar la variable. En nuestro ejemplo seria `int entero = 2` ya que almacena valores enteros. Por suerte Python interpreta el tipo de dato de forma automática."
   ]
  },
  {
   "cell_type": "markdown",
   "metadata": {},
   "source": [
    "### Ejercicio 1\n",
    "Crea una nueva variable (dale el nombre que quieras. Ej: `numero`) que sume los valores de las variables `entero` y `decimal` creadas previamente. **Nota 1**: para poder sumar las variables primero es necesario que se carguen en la memoria, por lo que primero deberás haber ejecutado el bloque de código que las contiene.\n",
    "\n",
    " ¿De qué tipo es la nueva variable? Investiga cómo conocer el tipo de una variable cualquiera. **Nota 2**: debe sumarse los valores almacenados en las variables, esos números podrían ser otros diferentes 2 y 3.14. \n",
    "\n",
    "**Extra**: ¿existe alguna forma de convertir un valor decimal a entero? "
   ]
  },
  {
   "cell_type": "code",
   "execution_count": null,
   "metadata": {},
   "outputs": [],
   "source": []
  },
  {
   "cell_type": "markdown",
   "metadata": {},
   "source": [
    "### Ejercicio 2\n",
    "- ¿Qué intentaba hacer este pobre inepto en el bloque de abajo?\n",
    "- ¿Cómo se puede solucionar el error?\n",
    "\n",
    "Pista: Los errores son tremendamente útiles (y comunes) a la hora de programar, utiliza la información que te proporcionan para saber qué puede estar sucediendo.\n",
    "\n",
    "Pista 2: Utiliza google, está todo ahí.\n",
    "\n",
    "**Nota**: `print` permite enseñar en la consola el contenido de una variable."
   ]
  },
  {
   "cell_type": "code",
   "execution_count": null,
   "metadata": {},
   "outputs": [],
   "source": [
    "# Prueba a sumar\n",
    "frase = frase + entero\n",
    "print(frase)"
   ]
  },
  {
   "cell_type": "markdown",
   "metadata": {},
   "source": [
    "Además de los tipos de datos simples existen otro tipo de datos que permiten almacenar conjuntos de datos. Es decir, un tipo de dato entero `int` solamente almacena un valor numérico. Con estas estructuras podemos almacenar varios de estos valores en una sola variable. A este tipo de datos almacenan colecciones de otros tipos de datos.\n",
    "\n",
    "Los más comunes son:"
   ]
  },
  {
   "cell_type": "code",
   "execution_count": null,
   "metadata": {},
   "outputs": [],
   "source": [
    "# Lista\n",
    "numeros = [1,2,3]\n",
    "# tupla\n",
    "letras = (\"a\",\"b\",\"c\")\n",
    "# diccionario\n",
    "abecedario = {\"a\":1,\"b\":2,\"c\":3}\n",
    "# set\n",
    "identificadores = {'1a','2b','3c'}"
   ]
  },
  {
   "cell_type": "markdown",
   "metadata": {},
   "source": [
    "- Una lista, como su nombre indica, contiene una lista de valores (generalmente del mismo tipo aunque no es necesario). Esta lista se puede modificar.\n",
    "- Una tupla es igual a una lista aunque **no** es modificable; una vez creada la variable contendrá siempre los mismos valores. A no ser que la reescribamos.\n",
    "- Un diccionario consiste en pares clave:valor (**key:value**). Permiten asociar dos datos distintos. En este ejemplo asocian una letra con un número.\n",
    "- Un set es una tupla que no puede contener valores repetidos."
   ]
  },
  {
   "cell_type": "markdown",
   "metadata": {},
   "source": [
    "Cuando una variable está formada por sub-elementos es posible acceder a cada uno de ellos por su posición. La primera posición en la mayoría de lenguajes, incluido Python, es el 0. Así pues el primer elemento en la tupla `letras` se accede de la siguiente forma:"
   ]
  },
  {
   "cell_type": "code",
   "execution_count": 3,
   "metadata": {},
   "outputs": [],
   "source": [
    "letra_a = letras[0]\n",
    "print(letra_a)"
   ]
  },
  {
   "cell_type": "markdown",
   "metadata": {},
   "source": [
    "### Ejercicio 3\n",
    "\n",
    "¿Muestra el primer elemento de la lista `numeros`, el segundo elemento del set `identificadores` y el tercer elemento del diccionario `abecedario`. ¿Funciona correctamente?\n",
    "\n",
    "**Pista1**: existen tipos de datos no ordenados, por lo no es posible acceder mediante su posición.\n",
    "\n",
    "**Pista 2**: recuerda que es posible convertir unos tipos de datos a otros.\n"
   ]
  },
  {
   "cell_type": "code",
   "execution_count": null,
   "metadata": {},
   "outputs": [],
   "source": [
    "# escribe aquí tu código"
   ]
  },
  {
   "cell_type": "markdown",
   "metadata": {},
   "source": [
    "### Ejercicio 4\n",
    "¿Pueden los valores de un diccionario (*values*) ser tuplas en lugar de un único numero? ¿Y las claves (*keys*)? \n",
    "\n",
    "Crea un diccionario que almacene 3 puntos (P1,P2,P3) en un eje de coordenadas tridimensional (X,Y,Z)."
   ]
  },
  {
   "cell_type": "code",
   "execution_count": null,
   "metadata": {},
   "outputs": [],
   "source": [
    "# escribe aquí tu código"
   ]
  },
  {
   "cell_type": "markdown",
   "metadata": {},
   "source": [
    "**Recuerda**\n",
    "- Los caracteres `char` y cadenas `string` siempre van acompañados de comillas simples `'hola'` o dobles `\"hola\"`.\n",
    "- Los diccionarios se definen con llaves { } y cada par clave-valor se separa por comas ( , ).\n",
    "- La lista se define con corchetes [ ] mientras que las tuplas lo hacen con paréntesis ( )."
   ]
  },
  {
   "cell_type": "markdown",
   "metadata": {},
   "source": [
    "## Estructuras de control: if & else\n",
    "\n",
    "Un condicional es un tipo de estructura que permite ejecutar un codigo según si se cumple o no una condición. Ejemplo:"
   ]
  },
  {
   "cell_type": "code",
   "execution_count": null,
   "metadata": {},
   "outputs": [],
   "source": [
    "if 8 > 5: # si se cumple...\n",
    "    print(\"La condición se cumple\")\n",
    "else: # si no se cumple...el else es opcional\n",
    "    print(\"La condición no se cumple\")"
   ]
  },
  {
   "cell_type": "markdown",
   "metadata": {},
   "source": [
    "La condición se introduce justo después de la palabra `if`, en este caso se evalúa si el 8 es **mayor que** 5. El resultado de esta comparación es un tipo booleano, esto es, un verdadero o falso. Si el resultado es verdadero se ejecutará lo que se encuentra dentro de el if, si es falso se ejecutará lo que se encuentra en el `else`. Como en este caso es veradero se enseña por pantalla.\n",
    "\n",
    "La condición `else` es opcional, es decir, puedes comprobar solamente si se cumple una condición. También es posible concatenar varios condicionales mediante la sintaxis [`elif`](https://www.w3schools.com/python/python_conditions.asp).\n",
    "\n",
    "Los operadores lógicos son los de toda la vida, aunque hay que respetar el orden y la sintaxis de los signos:\n",
    "\n",
    "- `>` mayor que\n",
    "- `<` menor que\n",
    "- `==` igual a\n",
    "- `>=` mayor o igual a\n",
    "- `<=` menor o igual a\n",
    "- `!=` diferente a\n",
    "\n",
    "Atentos: El *igual a* se escribe como *\"==\"* para diferenciarlo de la asignación \"=\".\n",
    "```Python\n",
    "#asignación\n",
    "variable = 8\n",
    "#comparación\n",
    "variable == 8\n",
    "```\n",
    "\n",
    "**Recuerda**: tras la condición en el if van los dos puntos **:** , seguidos de una tabulación que indica la pertenencia a esa condición. Todo el codigo tabulado inmediatamente posterior se ejecutará **solamente** si se cumple la condición."
   ]
  },
  {
   "cell_type": "markdown",
   "metadata": {},
   "source": [
    "### Ejercicio 5\n",
    "\n",
    "Crea otro condicional que compruebe si la `var1` es mayor o igual a la `var2`, si lo es que printe la informacion de `var1`.\n",
    "\n",
    "**Nota**: recuerda seguir la estructura vista en el código anterior, no te olvides de tabular el código dentro de las condiciones:\n",
    "```\n",
    "if condicion:\n",
    "    código\n",
    "else:\n",
    "    otro código\n",
    "```"
   ]
  },
  {
   "cell_type": "code",
   "execution_count": null,
   "metadata": {},
   "outputs": [],
   "source": [
    "var1 = 1\n",
    "var2 = 1.0\n",
    "# escribe aquí el codigo"
   ]
  },
  {
   "cell_type": "markdown",
   "metadata": {},
   "source": [
    "## Estructuras de control: for & while\n",
    "Los bucles son estructuras que permiten ejecutar el código de su interior varias veces, básicamente permite repetir una acción sin tener que escribirlo mismo muchas veces.\n",
    "\n",
    "El siguiente bloque de código recorre la lista que hemos creado y enseña por pantalla los números que contiene.\n",
    "\n",
    "La forma de leer esta sentencia es \"desde...hasta\"."
   ]
  },
  {
   "cell_type": "code",
   "execution_count": null,
   "metadata": {},
   "outputs": [],
   "source": [
    "numeros = [1,2,3,5,8]\n",
    "for i in numeros:\n",
    "    print(i)"
   ]
  },
  {
   "cell_type": "markdown",
   "metadata": {},
   "source": [
    "Este tipo de bucles en otros lenguajes de programación se les conoce como *for each* ya que lo que hacen es recorrer una variable para cada sub-elemento de esa variable. En nuestro ejemplo la variable números contiene 5 números, por lo que el bucle se repetirá 5 veces (0 a 4).\n",
    "\n",
    "¿Qué es esa `i`? Es una variable temporal o variable local, que se crea solamente para el bucle y desaparece cuando termina de ejecutarse. Así pues, `i` va tomando los valores que se encuentran en cada posición de `numeros`. i = 1, i = 2,..., i = 8.\n"
   ]
  },
  {
   "cell_type": "markdown",
   "metadata": {},
   "source": [
    "Conociendo el funcionamiento del bucle for, ¿sabrías decir qué hace este bloque? Prueba a ejecutarlo."
   ]
  },
  {
   "cell_type": "code",
   "execution_count": null,
   "metadata": {},
   "outputs": [],
   "source": [
    "i = 0\n",
    "while i < 8:\n",
    "    i += 1\n",
    "    print(i)"
   ]
  },
  {
   "cell_type": "markdown",
   "metadata": {},
   "source": [
    "¿Qué diferencia a la variable `i` en este bloque en comparación a la variable `i` del bloque anterior?"
   ]
  },
  {
   "cell_type": "markdown",
   "metadata": {},
   "source": [
    "Tanto el for como el while se pueden usar indistintamente en la mayoría de ocasiones. Sin embargo el `for` es mucho más comun para recorrer elementos mientras que el `while` (mientras que...) se utiliza para llevar acabo acciones hasta que se cumpla una condición."
   ]
  },
  {
   "cell_type": "markdown",
   "metadata": {},
   "source": [
    "### Ejercicio 6\n",
    "Haz un bucle que sume los valores de la lista siguiente y los guarde en una nueva variable:"
   ]
  },
  {
   "cell_type": "code",
   "execution_count": null,
   "metadata": {},
   "outputs": [],
   "source": [
    "lista2 = [1,2,3,4]\n",
    "\n",
    "# aqui abajo va el bucle"
   ]
  },
  {
   "cell_type": "markdown",
   "metadata": {},
   "source": [
    "### Ejercicio 7\n",
    "¿Es posible recorrer un diccionario y mostrar tanto su clave como su valor? Intenta recorrer el diccionario creado anteriormente `abecedario`. \n",
    "\n",
    "**Nota** Recuerda que está formado por un par clave:valor."
   ]
  },
  {
   "cell_type": "code",
   "execution_count": null,
   "metadata": {},
   "outputs": [],
   "source": [
    "diccionario = {'a':1,'b':2,'c':3}"
   ]
  },
  {
   "cell_type": "markdown",
   "metadata": {},
   "source": [
    "## Funciones\n",
    "\n",
    "Una función es un bloque de código autocontenido que cumple una... función, un propósito. En un principio puede parecer que todas las celdas de código ya cumplen una función. Es cierto, sin embargo lo bueno y útil de las funciones es que las puedes utiliar cuando quieras una vez creadas.\n",
    "\n",
    "Se podría decir que una función es una variable extendida, así como una variable contiene un valor (o conjunto de valores) una función contiene una serie de pasos, un algoritmo.\n",
    "\n",
    "Las funciones aceptan una entrada de datos (variables) y pueden devolver (o no) un resultado, de forma similar a una función matemática.\n",
    "\n",
    "$f(x,y) = x+y$\n",
    "\n",
    "Donde $x$ e $y$ serían la entrada, la suma sería la operación ( el \"algoritmo\") y el resultado de la suma sería lo que devuelve la función\n",
    "\n",
    "Ejemplo:"
   ]
  },
  {
   "cell_type": "code",
   "execution_count": null,
   "metadata": {},
   "outputs": [],
   "source": [
    "# todas las funciones empiezan con def\n",
    "def sqr(x,u):\n",
    "    \n",
    "    y = x**u\n",
    "    \n",
    "    return y #esto devuelve el valor que se le pase"
   ]
  },
  {
   "cell_type": "markdown",
   "metadata": {},
   "source": [
    "¿Qué crees que hace? Prueba a ejecutar la celda, verás que no sucede nada. \n",
    "\n",
    "En el bloque anterior la función se ha declarado, es decir, se ha creado y por tanto existe en memoria. Sin embargo, para usarla es necesario \"llamarla\" desde otra parte. Esto se hace de la siguiente manera."
   ]
  },
  {
   "cell_type": "code",
   "execution_count": null,
   "metadata": {},
   "outputs": [],
   "source": [
    "resultado = sqr(2,2)\n",
    "\n",
    "print(resultado)"
   ]
  },
  {
   "cell_type": "markdown",
   "metadata": {},
   "source": [
    "A la función se le pasan dos valores separados por comas (2,2) y te devuelve un valor, en este caso será ese mismo número (2) elevado a 2.\n",
    "\n",
    "**Nota**: es posible que una función no devuelva nada, esto se hace eliminando la palabra `return`."
   ]
  },
  {
   "cell_type": "markdown",
   "metadata": {},
   "source": [
    "## Ejercicio final\n",
    "2. Crea una función vacía llamada **resta**.\n",
    "3. Haz que resta reciba dos **parámetros** (llámalos como quieras, antes eran `x` y `u` pero pueden tener cualquier nombre).\n",
    "4. **Si** el valor que se le pasa primero es mayor que el segundo, que haga la resta y la guarde en una variable, **si no**, que haga la resta del segundo menos el primero.\n",
    "5. Haz que la funcion **devuelva** el resultado.\n",
    "6. **Llama** la función y printalo por pantalla.\n"
   ]
  },
  {
   "cell_type": "code",
   "execution_count": null,
   "metadata": {},
   "outputs": [],
   "source": [
    "# aqui abajo iria la definicion de la función"
   ]
  },
  {
   "cell_type": "markdown",
   "metadata": {},
   "source": [
    "Una vez termines, puedes probar a utilizar el paquete [Populy](./3_Guia%20de%20populy.ipynb)"
   ]
  }
 ],
 "metadata": {
  "interpreter": {
   "hash": "fa67766ae418968f0c59ac0eb4df618cb98e2442e22a4762b28c70784bead217"
  },
  "kernelspec": {
   "display_name": "Python 3.9.7 64-bit",
   "language": "python",
   "name": "python3"
  },
  "language_info": {
   "codemirror_mode": {
    "name": "ipython",
    "version": 3
   },
   "file_extension": ".py",
   "mimetype": "text/x-python",
   "name": "python",
   "nbconvert_exporter": "python",
   "pygments_lexer": "ipython3",
   "version": "3.9.7"
  },
  "orig_nbformat": 4
 },
 "nbformat": 4,
 "nbformat_minor": 2
}
